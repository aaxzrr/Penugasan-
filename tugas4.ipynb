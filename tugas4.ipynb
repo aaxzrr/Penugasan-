{
 "cells": [
  {
   "cell_type": "code",
   "execution_count": 7,
   "metadata": {},
   "outputs": [
    {
     "name": "stdout",
     "output_type": "stream",
     "text": [
      "Distance (m) :  105139926.17527977\n"
     ]
    }
   ],
   "source": [
    "from math import *\n",
    "def haversine(lon1, lat1, lon2, lat2):\n",
    "    lon1, lat1, lon2, lat2 = map(radians, [lon1, lat1, lon2, lat2])\n",
    "    \n",
    "    dellon = lon2 - lon1\n",
    "    dellat = lat2 - lat1\n",
    "    a = sin(dellat/2)**2 + cos(lat1) * cos(lat2) * sin(dellon/2)**2\n",
    "    c = 2 * asin(sqrt(a))\n",
    "    r = 6378*10**6\n",
    "    return c * r\n",
    "\n",
    "lat1 = float(input(\"Latitude saat ini : \"))\n",
    "lon1 = float(input(\"Longitude Saat ini :\"))\n",
    "lat2 = float(input(\"Latitude Drone :\"))\n",
    "lon2 = float(input(\"Longitude Drone :\"))\n",
    "\n",
    "a = haversine(lon1, lat1, lon2, lat2)\n",
    "tinggi = float(input(\"Tinggi Drone :\"))\n",
    "\n",
    "jarak = sqrt(a**2 + tinggi**2)\n",
    "\n",
    "print('Jarak Individu ke drone (m) : ', jarak)\n",
    "\n"
   ]
  }
 ],
 "metadata": {
  "kernelspec": {
   "display_name": "Python 3.9.13 64-bit (microsoft store)",
   "language": "python",
   "name": "python3"
  },
  "language_info": {
   "codemirror_mode": {
    "name": "ipython",
    "version": 3
   },
   "file_extension": ".py",
   "mimetype": "text/x-python",
   "name": "python",
   "nbconvert_exporter": "python",
   "pygments_lexer": "ipython3",
   "version": "3.9.13"
  },
  "orig_nbformat": 4,
  "vscode": {
   "interpreter": {
    "hash": "23b4a3e8622309bcc6db3d5cc6eb73d60ab98d9ec23bad6a26b709981ccb403a"
   }
  }
 },
 "nbformat": 4,
 "nbformat_minor": 2
}
