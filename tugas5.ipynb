{
 "cells": [
  {
   "cell_type": "code",
   "execution_count": 13,
   "metadata": {},
   "outputs": [
    {
     "name": "stdout",
     "output_type": "stream",
     "text": [
      "2,3\n"
     ]
    }
   ],
   "source": [
    "arr1= []\n",
    "arr2= []  \n",
    "in1 = input(\"masukan array 1 : \")\n",
    "in2 = input(\"masukan array 2 : \")\n",
    "arr1 = in1.split(\",\")\n",
    "arr2 = in2.split(\",\")\n",
    "arrinter = []\n",
    "for x in arr1:\n",
    "    if x in arr2:\n",
    "        arrinter.append(x)\n",
    "            \n",
    "if len(arrinter)> 0:\n",
    "    print( \",\".join(arrinter))\n",
    "else:\n",
    "    print(\"false\")\n",
    "    "
   ]
  }
 ],
 "metadata": {
  "kernelspec": {
   "display_name": "Python 3.9.13 64-bit (microsoft store)",
   "language": "python",
   "name": "python3"
  },
  "language_info": {
   "codemirror_mode": {
    "name": "ipython",
    "version": 3
   },
   "file_extension": ".py",
   "mimetype": "text/x-python",
   "name": "python",
   "nbconvert_exporter": "python",
   "pygments_lexer": "ipython3",
   "version": "3.9.13"
  },
  "orig_nbformat": 4,
  "vscode": {
   "interpreter": {
    "hash": "23b4a3e8622309bcc6db3d5cc6eb73d60ab98d9ec23bad6a26b709981ccb403a"
   }
  }
 },
 "nbformat": 4,
 "nbformat_minor": 2
}
